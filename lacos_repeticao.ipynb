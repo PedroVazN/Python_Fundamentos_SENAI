{
  "nbformat": 4,
  "nbformat_minor": 0,
  "metadata": {
    "colab": {
      "provenance": [],
      "authorship_tag": "ABX9TyM7LaikvQEjH6M9GS0iYrCO"
    },
    "kernelspec": {
      "name": "python3",
      "display_name": "Python 3"
    },
    "language_info": {
      "name": "python"
    }
  },
  "cells": [
    {
      "cell_type": "code",
      "execution_count": null,
      "metadata": {
        "id": "PYr9g2XjLdzf"
      },
      "outputs": [],
      "source": [
        "idade = abs(int(input('Digite sua idade: ')))\n",
        "\n",
        "if idade < 12:\n",
        "  print('Criança')\n",
        "\n",
        "elif idade >= 12 and idade < 18:\n",
        "  print('Adolescente')\n",
        "\n",
        "elif idade >= 18 and idade < 65:\n",
        "  print('Adulto')\n",
        "\n",
        "else:\n",
        "  print('Idoso')"
      ]
    },
    {
      "cell_type": "code",
      "source": [
        "palavra = str(input('Digite um texto: '))\n",
        "\n",
        "for letra in palavra:\n",
        "  nome = str(input('Digite seu nome: '))\n",
        "  idade = int(input('Digite a sua idade: '))\n",
        "  curiosidade = str(input('Digite uma curiosidade sobre voce: '))\n",
        "\n",
        "  print(f'Cadastro CONCLUIDO \\nNome: {nome} \\nIdade: {idade} anos \\nCuriosidade: {curiosidade}')"
      ],
      "metadata": {
        "id": "VO54E4eCyAUm"
      },
      "execution_count": null,
      "outputs": []
    },
    {
      "cell_type": "code",
      "source": [
        "for numero in range(10, 0, -1):\n",
        "  print(numero)"
      ],
      "metadata": {
        "id": "BgAiUpwg8Wcf"
      },
      "execution_count": null,
      "outputs": []
    },
    {
      "cell_type": "code",
      "source": [
        "quantidade = int(input('Digite a quantidade de notas: '))\n",
        "soma = 0\n",
        "\n",
        "for numero in range(0, quantidade):\n",
        "  nota = float(input('Digite a nota: '))\n",
        "  soma = soma + nota\n",
        "\n",
        "media =soma / quantidade\n",
        "print(f'Sua média é {media:.1f}')\n",
        "\n",
        "if( media >= 5 and media <= 6.9):\n",
        "  print(\"\\033[0;33;40m Recuperação\")\n",
        "\n",
        "elif ( media < 7 ):\n",
        "  print(\"\\033[0;31;40m Reprovado\")\n",
        "\n",
        "else:\n",
        "  print(\"\\033[0;32;40m Aprovado\")\n"
      ],
      "metadata": {
        "id": "D6V_lZ458Uhp"
      },
      "execution_count": null,
      "outputs": []
    },
    {
      "cell_type": "code",
      "source": [
        "while True:\n",
        "  nome = str(input('Digite um nome:'))\n",
        "  continuar = str(input('Digite \"S\" para continuar e \"N\" para sair: '))\n",
        "\n",
        "  if continuar == 'S':\n",
        "    continue\n",
        "  else:\n",
        "    break;"
      ],
      "metadata": {
        "id": "7K_rcYpS5n2p"
      },
      "execution_count": null,
      "outputs": []
    },
    {
      "cell_type": "code",
      "source": [
        "numero = int(input('Digite um numero para somar: '))\n",
        "soma = 0\n",
        "\n",
        "while numero > 0:\n",
        "  soma += numero\n",
        "  numero -= 1\n",
        "\n",
        "print(f'A soma de todos os números foi igual a {soma}')"
      ],
      "metadata": {
        "id": "dzDG7d5LbSv6"
      },
      "execution_count": null,
      "outputs": []
    },
    {
      "cell_type": "code",
      "source": [
        "while True:\n",
        "  nome = str(input('Digite um nome: '))\n",
        "\n",
        "  if nome == 'Carlos':\n",
        "    break\n",
        "\n",
        "print('Obrigado Carlos')"
      ],
      "metadata": {
        "id": "QUrYPKTkfrBN"
      },
      "execution_count": null,
      "outputs": []
    },
    {
      "cell_type": "code",
      "source": [
        "limite = int(input('Digite um limite: '))\n",
        "contador = 0\n",
        "\n",
        "while contador <= limite:\n",
        "  print(contador)\n",
        "  contador += 1"
      ],
      "metadata": {
        "id": "DCbYGsGUhA__"
      },
      "execution_count": null,
      "outputs": []
    }
  ]
}