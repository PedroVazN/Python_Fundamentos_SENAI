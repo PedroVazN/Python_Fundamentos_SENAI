{
  "cells": [
    {
      "cell_type": "code",
      "execution_count": null,
      "metadata": {
        "colab": {
          "base_uri": "https://localhost:8080/"
        },
        "id": "HMOqvy0tNVqr",
        "outputId": "e505d0c0-4988-4a8c-cfd9-7e54f635f033"
      },
      "outputs": [
        {
          "name": "stdout",
          "output_type": "stream",
          "text": [
            "Hello World\n",
            "Pedro Vaz 17\n",
            "Seu nome é: Pedro Vaz , e sua idade é: 17 \n",
            "\n",
            "Digite Um Número: 5\n",
            "Digite outro Número: 10\n",
            "\n",
            "\n",
            "15\n",
            "-5\n",
            "0.5\n",
            "50\n",
            "9765625\n",
            "0\n",
            "5\n"
          ]
        }
      ],
      "source": [
        "print(\"Hello World\")\n",
        "\n",
        "nome = \"Pedro Vaz\"\n",
        "idade = 17\n",
        "\n",
        "print(nome,idade)\n",
        "print(\"Seu nome é:\", nome, \", e sua idade é:\", idade, \"\\n\")\n",
        "type(idade)\n",
        "\n",
        "n1 = int(input(\"Digite Um Número: \"))\n",
        "n2 = int(input(\"Digite outro Número: \"))\n",
        "\n",
        "soma = n1 +n2\n",
        "subtracao = n1 - n2\n",
        "divisao = n1 / n2\n",
        "multiplicacao = n1 * n2\n",
        "exponenciacao = n1 ** n2\n",
        "div_inteira = n1 // n2\n",
        "modulo = n1 % n2\n",
        "\n",
        "print(\"\\n\")\n",
        "print(soma)\n",
        "print(subtracao)\n",
        "print(divisao)\n",
        "print(multiplicacao)\n",
        "print(exponenciacao)\n",
        "print(div_inteira)\n",
        "print(modulo)\n",
        "\n",
        "\n",
        "\n",
        "\n"
      ]
    },
    {
      "cell_type": "code",
      "execution_count": null,
      "metadata": {
        "colab": {
          "base_uri": "https://localhost:8080/"
        },
        "id": "MvDwE3sG5NnI",
        "outputId": "13657140-1b7f-4776-cb2c-bb2f0b6e39c1"
      },
      "outputs": [],
      "source": [
        "n1 = float(input(\"Digite a 1º Nota:\"))\n",
        "n2 = float(input(\"Digite a 2º Nota:\"))\n",
        "n3 = float(input(\"Digite a 3º Nota:\"))\n",
        "n4 = float(input(\"Digite a 4º Nota:\"))\n",
        "\n",
        "media = (n1+n2+n3+n4)/4\n",
        "\n",
        "if( media >= 5 and media <= 6.9):\n",
        "  print(\"Recuperação\")\n",
        "\n",
        "elif ( media < 7 ):\n",
        "  print(\"Reprovado\")\n",
        "\n",
        "else:\n",
        "  print(\"Aprovado\")\n"
      ]
    }
  ],
  "metadata": {
    "colab": {
      "authorship_tag": "ABX9TyPV3wm4OGdL7CC/1rpAYe+K",
      "provenance": []
    },
    "kernelspec": {
      "display_name": "Python 3",
      "name": "python3"
    },
    "language_info": {
      "name": "python"
    }
  },
  "nbformat": 4,
  "nbformat_minor": 0
}
