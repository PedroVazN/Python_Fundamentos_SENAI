{
  "nbformat": 4,
  "nbformat_minor": 0,
  "metadata": {
    "colab": {
      "provenance": [],
      "authorship_tag": "ABX9TyPmbEmjrSkRUggnfwsCwu0n"
    },
    "kernelspec": {
      "name": "python3",
      "display_name": "Python 3"
    },
    "language_info": {
      "name": "python"
    }
  },
  "cells": [
    {
      "cell_type": "code",
      "execution_count": null,
      "metadata": {
        "id": "QhXsYqbdrIIg"
      },
      "outputs": [],
      "source": [
        "carros = {\n",
        "    'Ka': 13000,\n",
        "    'Civic': 120000,\n",
        "    'Corola': 100000,\n",
        "    'Uno': 12000,\n",
        "    'Montana': 50000\n",
        "}\n",
        "\n",
        "print(carros['Ka'])\n",
        "\n",
        "carros['Ka'] = 90000\n",
        "\n",
        "print(carros['Ka'])\n",
        "\n",
        "carros['Lancer'] = 89000\n",
        "\n",
        "print(carros)\n",
        "\n",
        "del carros['Uno']\n",
        "\n",
        "print(carros)\n",
        "\n",
        "carros.pop('Corola')\n",
        "\n",
        "print(carros)"
      ]
    },
    {
      "cell_type": "code",
      "source": [
        "carros =  {\n",
        "    'Lancer': [89000.98, 'Mitsubishi', 5],\n",
        "    'Opala': [100000.75, 'GM', 2],\n",
        "    '500': [35000.23, 'FIAT', 10]\n",
        "}\n",
        "\n",
        "print(carros['Lancer'][1], carros['Lancer'][0])\n",
        "\n",
        "print(carros.keys())\n",
        "print(carros.values())"
      ],
      "metadata": {
        "colab": {
          "base_uri": "https://localhost:8080/"
        },
        "id": "2WjoCZx8rsqm",
        "outputId": "c819d44b-6e2e-46ea-ea5b-d11a667e8ad9"
      },
      "execution_count": 2,
      "outputs": [
        {
          "output_type": "stream",
          "name": "stdout",
          "text": [
            "Mitsubishi 89000.98\n",
            "dict_keys(['Lancer', 'Opala', '500'])\n",
            "dict_values([[89000.98, 'Mitsubishi', 5], [100000.75, 'GM', 2], [35000.23, 'FIAT', 10]])\n"
          ]
        }
      ]
    }
  ]
}