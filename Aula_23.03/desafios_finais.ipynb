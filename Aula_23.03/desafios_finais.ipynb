{
  "nbformat": 4,
  "nbformat_minor": 0,
  "metadata": {
    "colab": {
      "provenance": [],
      "authorship_tag": "ABX9TyNI9TvJr6RNecwH6ic9wJma"
    },
    "kernelspec": {
      "name": "python3",
      "display_name": "Python 3"
    },
    "language_info": {
      "name": "python"
    }
  },
  "cells": [
    {
      "cell_type": "code",
      "execution_count": null,
      "metadata": {
        "id": "7wVc9slq1cXa"
      },
      "outputs": [],
      "source": [
        "cargah = float(input('Digite a carga horaria: '))\n",
        "faltas = cargah * 0.25\n",
        "dias = faltas / 24\n",
        "dias = round(dias, 1)\n",
        "\n",
        "print('Aluno pode faltar:', faltas, 'Horas ou', dias, 'dias')"
      ]
    },
    {
      "cell_type": "code",
      "source": [
        "quantidade = 4\n",
        "soma = 0\n",
        "\n",
        "for numero in range(0, quantidade):\n",
        "  nota = float(input('Digite a nota: '))\n",
        "  soma = soma + nota\n",
        "\n",
        "media = soma / quantidade\n",
        "\n",
        "print(media)\n"
      ],
      "metadata": {
        "id": "dhCxfnJ27AQk"
      },
      "execution_count": null,
      "outputs": []
    },
    {
      "cell_type": "code",
      "source": [
        "numtabuada = int(input('Digite o número que voce quer ver na tabuada:'))\n",
        "\n",
        "print('Tabuada do', numtabuada)\n",
        "\n",
        "for i in range(1, 11):\n",
        "  print(f'{numtabuada} x {i} = {numtabuada * i}')"
      ],
      "metadata": {
        "id": "mQ0mj1587AXz"
      },
      "execution_count": null,
      "outputs": []
    },
    {
      "cell_type": "code",
      "source": [
        "print('Bem Vindo a Loja de Celulares')\n",
        "escolha = int(input('Digite produto deseja comprar:\\n 1- Iphone 11\\n 2- Iphone 12\\n 3- Iphone 13\\n'))\n",
        "\n",
        "while True:\n",
        "\n",
        "  if escolha == 1:\n",
        "    valor = 4000\n",
        "    pag = int(input('Como deseja pagar\\n 1- A vista\\n 2- A Prazo\\n'))\n",
        "\n",
        "    if pag == '1':\n",
        "       desconto = (8/100) * valor\n",
        "       valor_final = valor - desconto\n",
        "       print(\"Valor Final: \", valor_final)\n",
        "       print(\"Produto comprado com Sucesso\\n\")\n",
        "\n",
        "\n",
        "    if pag == '2':\n",
        "       valor_final = (valor * 0.18) + valor\n",
        "       print(\"Valor Final: \", valor_final)\n",
        "       print(\"Produto comprado com Sucesso\\n\")\n",
        "\n",
        "  else:\n",
        "    print(\"escolha Inválida\")\n",
        "    break;\n",
        "\n",
        "  if escolha == 2:\n",
        "    valor = 6000\n",
        "    pag = int(input('Como deseja pagar\\n 1- A vista\\n 2- A Prazo\\n'))\n",
        "\n",
        "    if pag == '1':\n",
        "       desconto = (8/100) * valor\n",
        "       valor_final = valor - desconto\n",
        "       print(\"Valor Final: \", valor_final)\n",
        "       print(\"Produto comprado com Sucesso\\n\")\n",
        "\n",
        "\n",
        "    if pag == '2':\n",
        "       valor_final = (valor * 0.18) + valor\n",
        "       print(\"Valor Final: \", valor_final)\n",
        "       print(\"Produto comprado com Sucesso\\n\")\n",
        "\n",
        "  else:\n",
        "    print(\"escolha Inválida\")\n",
        "    break;\n",
        "\n",
        "  if escolha == 3:\n",
        "    valor = 9000\n",
        "    pag = int(input('Como deseja pagar\\n 1- A vista\\n 2- A Prazo\\n'))\n",
        "\n",
        "    if pag == '1':\n",
        "       desconto = (8/100) * valor\n",
        "       valor_final = valor - desconto\n",
        "       print(\"Valor Final: \", valor_final)\n",
        "       print(\"Produto comprado com Sucesso\\n\")\n",
        "\n",
        "\n",
        "    if pag == '2':\n",
        "       valor_final = (valor * 0.18) + valor\n",
        "       print(\"Valor Final: \", valor_final)\n",
        "       print(\"Produto comprado com Sucesso\\n\")\n",
        "\n",
        "  else:\n",
        "    print(\"escolha Inválida\")\n",
        "    break;\n",
        "\n"
      ],
      "metadata": {
        "id": "e8OHQv1s7Amp"
      },
      "execution_count": null,
      "outputs": []
    },
    {
      "cell_type": "code",
      "source": [
        "print('Bem Vindo a Loja de Celulares')\n",
        "\n",
        "escolha = int(input('Digite o produto que deseja comprar:\\n 1- Iphone 11, R$4000\\n 2- Iphone 12, R$6000\\n 3- Iphone 13, R$9000\\n'))\n",
        "\n",
        "while True:\n",
        "\n",
        "  if escolha == 1:\n",
        "\n",
        "    valor = 4000\n",
        "    pag = int(input('Como deseja pagar?\\n 1- À vista\\n 2- A prazo\\n'))\n",
        "\n",
        "    if pag == 1:\n",
        "      valor_final = valor - (valor * 15 / 100)\n",
        "      print(f'O valor final é R${valor_final:.2f}')\n",
        "      break\n",
        "    elif pag == 2:\n",
        "      valor_final = valor + (valor * 18 / 100)\n",
        "      print(f'O valor final é R${valor_final:.2f}')\n",
        "      break\n",
        "    else:\n",
        "      print('Opção inválida. Tente novamente.')\n",
        "\n",
        "\n",
        "  elif escolha == 2:\n",
        "\n",
        "    valor = 5000\n",
        "    pag = int(input('Como deseja pagar?\\n 1- À vista\\n 2- A prazo\\n'))\n",
        "\n",
        "    if pag == 1:\n",
        "      valor_final = valor - (valor * 15 / 100)\n",
        "      print(f'O valor final é R${valor_final:.2f}')\n",
        "      break\n",
        "    elif pag == 2:\n",
        "      valor_final = valor + (valor * 18 / 100)\n",
        "      print(f'O valor final é R${valor_final:.2f}')\n",
        "      break\n",
        "    else:\n",
        "      print('Opção inválida. Tente novamente.')\n",
        "\n",
        "\n",
        "  elif escolha == 3:\n",
        "\n",
        "    valor = 6000\n",
        "    pag = int(input('Como deseja pagar?\\n 1- À vista\\n 2- A prazo\\n'))\n",
        "\n",
        "    if pag == 1:\n",
        "      valor_final = valor - (valor * 15 / 100)\n",
        "      print(f'O valor final é R${valor_final:.2f}')\n",
        "      break\n",
        "    elif pag == 2:\n",
        "      valor_final = valor + (valor * 18 / 100)\n",
        "      print(f'O valor final é R${valor_final:.2f}')\n",
        "      break\n",
        "    else:\n",
        "      print('Opção inválida. Tente novamente.')"
      ],
      "metadata": {
        "id": "hn-coJSWCnOm"
      },
      "execution_count": null,
      "outputs": []
    },
    {
      "cell_type": "code",
      "source": [
        "dias = float(input('Digite a quantidade de dias letivos:'))\n",
        "diaspre = float(input('Digite a quantidade de dias presentes:'))\n",
        "quantidade = 4\n",
        "soma = 0\n",
        "\n",
        "for numero in range(0, quantidade):\n",
        "  nota = float(input('Digite a nota: '))\n",
        "  soma = soma + nota\n",
        "\n",
        "media = soma / quantidade\n",
        "presenca = (diaspre/dias) * 100\n",
        "\n",
        "if media >= 7 and presenca >= 75 :\n",
        "    print(\"\\nAprovado\")\n",
        "else:\n",
        "    print(\"\\nReprovado\")"
      ],
      "metadata": {
        "id": "DkLlv7EwRjv8"
      },
      "execution_count": null,
      "outputs": []
    },
    {
      "cell_type": "code",
      "source": [
        "salario = int(input('Digite seu salário: '))\n",
        "\n",
        "if salario >= 2000:\n",
        "  desconto = salario * 0.12\n",
        "elif salario <= 1400:\n",
        "  desconto = salario * 0.06\n",
        "elif salario > 1400 and salario < 2000:\n",
        "  desconto = salario * 0.08\n",
        "\n",
        "salario_final = salario - desconto\n",
        "print(\"Salário bruto:\", salario)\n",
        "print(\"Desconto:\", desconto)\n",
        "print(\"Salário final:\", salario_final)"
      ],
      "metadata": {
        "id": "6VvLLFjfSSvy"
      },
      "execution_count": null,
      "outputs": []
    }
  ]
}