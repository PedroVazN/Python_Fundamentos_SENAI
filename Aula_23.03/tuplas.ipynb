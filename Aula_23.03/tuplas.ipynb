{
  "nbformat": 4,
  "nbformat_minor": 0,
  "metadata": {
    "colab": {
      "provenance": [],
      "authorship_tag": "ABX9TyP0K9ZQ3NfYQIi7m0ZTlyAV"
    },
    "kernelspec": {
      "name": "python3",
      "display_name": "Python 3"
    },
    "language_info": {
      "name": "python"
    }
  },
  "cells": [
    {
      "cell_type": "code",
      "execution_count": null,
      "metadata": {
        "id": "EXXSsxehPMKj"
      },
      "outputs": [],
      "source": [
        "def soma (num1, num2):\n",
        "  somar = num1 + num2\n",
        "  print(somar)\n",
        "\n",
        "soma(5,8)"
      ]
    },
    {
      "cell_type": "code",
      "source": [
        "def soma (num1, num2):\n",
        "  return num1 + num2\n",
        "soma (5,8)"
      ],
      "metadata": {
        "id": "e_Di-cdQe0FM"
      },
      "execution_count": null,
      "outputs": []
    },
    {
      "cell_type": "code",
      "source": [
        "maior_idade = []\n",
        "menor_idade = []\n",
        "\n",
        "def idade(idade):\n",
        "  if idade > 18:\n",
        "    maior_idade.append(idade)\n",
        "  elif idade <= 18:\n",
        "    menor_idade.append(idade)\n",
        "\n",
        "while True:\n",
        "  idade = int(input('Digite uma idade: '))\n",
        "\n",
        "  print(idade)\n",
        "\n",
        "  verificar = str(input('Caso queira encerrar o programa, digite \"Sair\": '))\n",
        "\n",
        "  if verificar == 'Sair':\n",
        "    break\n",
        "\n",
        "  else:\n",
        "    continue\n",
        "\n",
        "print(maior_idade)\n",
        "print(menor_idade)"
      ],
      "metadata": {
        "id": "7ZmjugrqrcKX"
      },
      "execution_count": null,
      "outputs": []
    },
    {
      "cell_type": "code",
      "source": [
        "compras = (\n",
        "    \"Arroz\",\n",
        "    \"Feijão\",\n",
        "    'Frango'\n",
        ")\n",
        "\n",
        "print(compras[2])\n",
        "\n",
        "carros = ('Fusca',\n",
        "'Ka',\n",
        "'Gol',\n",
        "'Uno'\n",
        ")\n",
        "\n",
        "\n",
        "print(carros[3])"
      ],
      "metadata": {
        "id": "Z_tD0YL1tOZe"
      },
      "execution_count": null,
      "outputs": []
    },
    {
      "cell_type": "code",
      "source": [
        "arroz, frango, salada = 1, 2, 3\n",
        "\n",
        "tupla = 'Arroz', 'Frango', 'Salada'\n",
        "print(tupla)\n",
        "\n",
        "type(tupla)"
      ],
      "metadata": {
        "id": "MGRPqaGpxzAp"
      },
      "execution_count": null,
      "outputs": []
    },
    {
      "cell_type": "code",
      "source": [
        "nome = 'Carlos'\n",
        "idade = 20\n",
        "\n",
        "print(nome)\n",
        "print(idade)\n",
        "\n",
        "nome, idade = ['Carlos', 'Vinicius', 'Roberto'], (21, 30, 90)\n",
        "\n",
        "print(nome)\n",
        "print(idade)"
      ],
      "metadata": {
        "id": "YAo587eizYEF"
      },
      "execution_count": null,
      "outputs": []
    }
  ]
}