{
  "nbformat": 4,
  "nbformat_minor": 0,
  "metadata": {
    "colab": {
      "provenance": [],
      "authorship_tag": "ABX9TyPWteiYfGOVo9l+kmoIjfFh"
    },
    "kernelspec": {
      "name": "python3",
      "display_name": "Python 3"
    },
    "language_info": {
      "name": "python"
    }
  },
  "cells": [
    {
      "cell_type": "code",
      "execution_count": 59,
      "metadata": {
        "colab": {
          "base_uri": "https://localhost:8080/"
        },
        "id": "kgrPbzDoYFfj",
        "outputId": "526ca197-867a-4f64-dcf3-46b1f5576498"
      },
      "outputs": [
        {
          "output_type": "stream",
          "name": "stdout",
          "text": [
            "Digite a quantidade de dias letivos:10\n",
            "Digite a quantidade de dias presentes:8\n",
            "Digite Nota 1: 5\n",
            "Digite Nota 2: 5\n",
            "Digite Nota 3: 5\n",
            "Digite Nota 4: 5\n",
            "\n",
            "Reprovado\n"
          ]
        }
      ],
      "source": [
        "dias = float(input('Digite a quantidade de dias letivos:'))\n",
        "diaspre = float(input('Digite a quantidade de dias presentes:'))\n",
        "n1 = float(input('Digite Nota 1: '))\n",
        "n2 = float(input('Digite Nota 2: '))\n",
        "n3 = float(input('Digite Nota 3: '))\n",
        "n4 = float(input('Digite Nota 4: '))\n",
        "\n",
        "media = (n1+n2+n3+n4)/4\n",
        "presenca = (diaspre/dias) * 100\n",
        "\n",
        "if media >= 7 and presenca >= 75 :\n",
        "    print(\"\\nAprovado\")\n",
        "else:\n",
        "    print(\"\\nReprovado\")"
      ]
    },
    {
      "cell_type": "code",
      "source": [
        "while True:\n",
        "  prod = float(input(\"Digite o valor do produto: \"))\n",
        "  continuar = str(input('Digite C para Cartão ou Digite V para a vista:'))\n",
        "\n",
        "  if continuar == 'C':\n",
        "\n",
        "    prod = (prod * 0.15) + prod\n",
        "    print(\"Valor Final: \", prod)\n",
        "    print(\"Produto comprado com Sucesso\")\n",
        "    continuarc = str(input('Digite C para Continuar comprando ou Digite P para parar:'))\n",
        "\n",
        "    if continuarc == 'C':\n",
        "      continue\n",
        "    else:\n",
        "      break;\n",
        "    continue\n",
        "\n",
        "  elif continuar == 'V':\n",
        "\n",
        "    desconto = (8/100) * prod\n",
        "    valor_final = prod - desconto\n",
        "    print(\"Valor Final: \", valor_final)\n",
        "    print(\"Produto comprado com Sucesso\\n\")\n",
        "\n",
        "    continuarc = str(input('Digite C para Continuar comprando ou Digite P para parar:'))\n",
        "\n",
        "    if continuarc == 'C':\n",
        "      continue\n",
        "    else:\n",
        "      break;\n",
        "    continue\n",
        "\n",
        "\n",
        "  else:\n",
        "    print(\"Letra Inválida\")\n",
        "    break;"
      ],
      "metadata": {
        "colab": {
          "base_uri": "https://localhost:8080/"
        },
        "id": "r7B4ig5gbdpd",
        "outputId": "e0848e67-699e-4823-a10c-494d3a2e783a"
      },
      "execution_count": 60,
      "outputs": [
        {
          "name": "stdout",
          "output_type": "stream",
          "text": [
            "Digite o valor do produto: 50\n",
            "Digite C para Cartão ou Digite V para a vista:C\n",
            "Valor Final:  57.5\n",
            "Produto comprado com Sucesso\n",
            "Digite C para Continuar comprando ou Digite P para parar:P\n"
          ]
        }
      ]
    },
    {
      "cell_type": "code",
      "source": [
        "print(\"======Cadastro======\")\n",
        "usuario = str(input(\"Cadastre um Usuario: \"))\n",
        "senha = str(input(\"Cadastre uma Senha: \"))\n",
        "\n",
        "print(\"======Login======\")\n",
        "\n",
        "usuval = str(input('Usuario: '))\n",
        "senval = str(input('Senha: '))\n",
        "\n",
        "if usuval == \"\" and senval == \"\":\n",
        "  print(\"Digite a senha e usuario\")\n",
        "\n",
        "elif usuval == usuario and senval == senha:\n",
        "  print(\"Usuario Logado com Sucesso\")\n",
        "\n",
        "elif usuval == \"\" and senha != \"\" :\n",
        "  print(\"Digite o usuario\")\n",
        "\n",
        "elif senval == \"\" and usuval != \"\":\n",
        "  print(\"Digite a senha\")\n",
        "\n",
        "else:\n",
        "  print(\"Usuario ou Senha Incorretos\")\n"
      ],
      "metadata": {
        "colab": {
          "base_uri": "https://localhost:8080/"
        },
        "id": "FJSSpaX6o0Jy",
        "outputId": "92b888d6-54de-4199-c446-6bfb19b2bc02"
      },
      "execution_count": 61,
      "outputs": [
        {
          "output_type": "stream",
          "name": "stdout",
          "text": [
            "======Cadastro======\n",
            "Cadastre um Usuario: Pedro\n",
            "Cadastre uma Senha: 123\n",
            "======Login======\n",
            "Usuario: pedro\n",
            "Senha: 456\n",
            "Usuario ou Senha Incorretos\n"
          ]
        }
      ]
    }
  ]
}