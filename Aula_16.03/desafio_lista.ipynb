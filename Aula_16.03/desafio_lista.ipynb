{
  "nbformat": 4,
  "nbformat_minor": 0,
  "metadata": {
    "colab": {
      "provenance": [],
      "authorship_tag": "ABX9TyNGuTwcdom2WjlmfnpZfqrQ"
    },
    "kernelspec": {
      "name": "python3",
      "display_name": "Python 3"
    },
    "language_info": {
      "name": "python"
    }
  },
  "cells": [
    {
      "cell_type": "code",
      "execution_count": null,
      "metadata": {
        "id": "tnXZUDQCyPvS"
      },
      "outputs": [],
      "source": [
        "idades = []\n",
        "\n",
        "while True:\n",
        "\n",
        "    idade = int(input('Digite a idade de uma pessoa: '))\n",
        "    idades.append(idade)\n",
        "\n",
        "    menores_de_18 = []\n",
        "    maiores_de_18 = []\n",
        "\n",
        "    for idade in idades:\n",
        "        if idade < 18:\n",
        "            menores_de_18.append(idade)\n",
        "        else:\n",
        "            maiores_de_18.append(idade)\n",
        "\n",
        "    if len(menores_de_18) > 0:\n",
        "        print('Menores de 18:')\n",
        "        for idade in menores_de_18:\n",
        "            print(idade)\n",
        "\n",
        "    if len(maiores_de_18) > 0:\n",
        "        print('Maiores de 18:')\n",
        "        for idade in maiores_de_18:\n",
        "            print(idade)\n",
        "\n",
        "    continuar = input('Deseja continuar? (s/n): ')\n",
        "    if continuar == 'n':\n",
        "        break"
      ]
    }
  ]
}