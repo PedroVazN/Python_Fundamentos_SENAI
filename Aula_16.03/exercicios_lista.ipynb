{
  "nbformat": 4,
  "nbformat_minor": 0,
  "metadata": {
    "colab": {
      "provenance": [],
      "authorship_tag": "ABX9TyOzBpTBEqWC8f2yDWqtQ/rb"
    },
    "kernelspec": {
      "name": "python3",
      "display_name": "Python 3"
    },
    "language_info": {
      "name": "python"
    }
  },
  "cells": [
    {
      "cell_type": "code",
      "source": [
        "alunos = [\n",
        "    \"Robson\",\n",
        "    \"Robsvaldo\",\n",
        "    \"Robsa\",\n",
        "    \"Robmero\",\n",
        "    \"Roubsoun\",\n",
        "    \"Roubsoninho\",\n",
        "    \"Rounaudinho\",\n",
        "    \"Primo Do Robson\",\n",
        "    \"Mãe do Robso\",\n",
        "    \"Pai do Robso\",\n",
        "    \"Irmão do Robso\",\n",
        "    \"Amigo do Robso\",\n",
        "    \"Robnalda\",\n",
        "    \"Robsvalda\",\n",
        "    \"Minecraft\",\n",
        "    \"Roblox\",\n",
        "    \"Neyma\",\n",
        "    \"Mbampe\",\n",
        "    \"Chico Moedas\",\n",
        "    \"Chico Coins\",\n",
        "    \"Baby coin\",\n",
        "    \"EU tenteiii\",\n",
        "\n",
        "]\n",
        "\n",
        "for i in range(0, len(alunos)):\n",
        "  print(f'O {i + 1}º nome da lista é: {alunos[i]}')"
      ],
      "metadata": {
        "id": "yvzVVj4_Ts6J"
      },
      "execution_count": null,
      "outputs": []
    },
    {
      "cell_type": "code",
      "execution_count": null,
      "metadata": {
        "id": "VaMxAGClQ5mJ"
      },
      "outputs": [],
      "source": [
        "lista_de_compras = ['Arroz',\n",
        "                    20,\n",
        "                    2.40,\n",
        "                    True,\n",
        "                    None]\n",
        "\n",
        "print(lista_de_compras)\n",
        "type(lista_de_compras[4])\n",
        "print(len(lista_de_compras))"
      ]
    },
    {
      "cell_type": "code",
      "source": [
        "mercado = ['Arroz', 'Feijao', 'Batata']\n",
        "\n",
        "print(len(mercado))"
      ],
      "metadata": {
        "id": "-d8qXh0DYlTq"
      },
      "execution_count": null,
      "outputs": []
    },
    {
      "cell_type": "code",
      "source": [
        "for i in range(0, len(mercado)):\n",
        "  print(mercado[i])"
      ],
      "metadata": {
        "id": "-RhiaLEmY8y1"
      },
      "execution_count": null,
      "outputs": []
    },
    {
      "cell_type": "code",
      "source": [
        "compras = []\n",
        "\n",
        "print(compras)\n",
        "adicionar = str(input('Adicione um item a lista: '))\n",
        "\n",
        "compras.append(adicionar)\n",
        "print(compras)\n",
        "\n",
        "excluir = int(input('Digite o número do indice para ser excluido: '))\n",
        "\n",
        "excluido = compras.pop(excluir)\n",
        "\n",
        "print(excluido)\n",
        "print(compras)"
      ],
      "metadata": {
        "id": "chckmXUXaH32"
      },
      "execution_count": null,
      "outputs": []
    },
    {
      "cell_type": "code",
      "source": [
        "marcas = [\n",
        "    'Ford',\n",
        "    'Peugueot',\n",
        "    'Chrevolet',\n",
        "    'Volkwagen'\n",
        "]\n",
        "\n",
        "print(marcas)\n",
        "\n",
        "marcas[1] = 'Fiat'\n",
        "\n",
        "print(marcas)"
      ],
      "metadata": {
        "id": "SLCOLahNeEQH"
      },
      "execution_count": null,
      "outputs": []
    },
    {
      "cell_type": "code",
      "source": [
        "alunos = ['Robson', 'Robsa', 'Roberto', 'Firmino']\n",
        "\n",
        "print(alunos)\n",
        "\n",
        "excluir = int(input('Escreva a posição do aluno que deseja excluir: '))\n",
        "\n",
        "del alunos[excluir]\n",
        "\n",
        "print(alunos)"
      ],
      "metadata": {
        "id": "dapPPyuMhOQ5"
      },
      "execution_count": null,
      "outputs": []
    },
    {
      "cell_type": "code",
      "source": [
        "alunos2 = ['442', 'Vida', \"Rasa\", \"Orochi\"]\n",
        "\n",
        "print(alunos2)\n",
        "adicionar = str(input('Escreva o nome do aluno para ser adicionado: '))\n",
        "\n",
        "alunos2.append(adicionar)\n",
        "print(alunos2)\n",
        "\n",
        "excluir = int(input('Digite o numero da pessoa que deseja excluir: '))\n",
        "\n",
        "excluido = alunos2.pop(excluir)\n",
        "\n",
        "print(f'O aluno {excluido} foi escolhido com sucesso')\n",
        "print(alunos2)"
      ],
      "metadata": {
        "id": "bGm0qxddqdtM"
      },
      "execution_count": null,
      "outputs": []
    },
    {
      "cell_type": "code",
      "source": [
        "alunos3 = ['Igor', 'Guilherme', 'Anda', 'Pensando']\n",
        "\n",
        "print(alunos3)\n",
        "\n",
        "excluir= int (input('Escreva a posição do aluno que deseja excluir: '))\n",
        "\n",
        "excluido = alunos3.pop(excluir)\n",
        "\n",
        "print(excluido)\n",
        "print(alunos3)\n"
      ],
      "metadata": {
        "id": "j00T4pJNtZ14"
      },
      "execution_count": null,
      "outputs": []
    },
    {
      "cell_type": "code",
      "source": [
        "alunos4 = ['Igor', 'Guilherme', 'Anda', 'Pensando']\n",
        "\n",
        "consulta = str(input('Digite um nome a ser consultado: '))\n",
        "\n",
        "if consulta in alunos4:\n",
        "  print('O nome esta na turma')\n",
        "\n",
        "else:\n",
        "  print('O nome não esta na turma')"
      ],
      "metadata": {
        "id": "0p9-kHKlvdhf"
      },
      "execution_count": null,
      "outputs": []
    }
  ]
}