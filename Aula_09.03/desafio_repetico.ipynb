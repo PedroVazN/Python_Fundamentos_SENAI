{
  "nbformat": 4,
  "nbformat_minor": 0,
  "metadata": {
    "colab": {
      "provenance": [],
      "authorship_tag": "ABX9TyOtWTtV/hBXX6vo6skVp8Xh"
    },
    "kernelspec": {
      "name": "python3",
      "display_name": "Python 3"
    },
    "language_info": {
      "name": "python"
    }
  },
  "cells": [
    {
      "cell_type": "code",
      "execution_count": null,
      "metadata": {
        "id": "BmSxEpi9yYXQ"
      },
      "outputs": [],
      "source": [
        "import random as rd\n",
        "\n",
        "computador = rd.randint(0,10)\n",
        "chute = 0\n",
        "\n",
        "while True:\n",
        "\n",
        "    chute += 1\n",
        "    usuario = abs(int(input('Digite um número de 0 a 10')))\n",
        "\n",
        "    if usuario > 10:\n",
        "        print(f'Infelizmente o número {usuario} é invalido. Tente novamente')\n",
        "        chute -= 1\n",
        "\n",
        "    else:\n",
        "        if usuario > computador:\n",
        "            print('Número chutado MAIOR do que o número pensado')\n",
        "\n",
        "        elif usuario < computador:\n",
        "            print('Número chutado MENOR do que o número pensado')\n",
        "\n",
        "        else:\n",
        "            print('PARABÉNS!! VOCE É O VENCEDOR!!!')\n",
        "            break\n",
        "\n",
        "    print(f'Você precisou de {chute} para acertar o número pensado')\n"
      ]
    }
  ]
}