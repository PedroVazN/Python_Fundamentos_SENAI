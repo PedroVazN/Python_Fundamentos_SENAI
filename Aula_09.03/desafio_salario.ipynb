{
  "nbformat": 4,
  "nbformat_minor": 0,
  "metadata": {
    "colab": {
      "provenance": [],
      "authorship_tag": "ABX9TyOAp6YMDq3bNf7RCN48NK0T"
    },
    "kernelspec": {
      "name": "python3",
      "display_name": "Python 3"
    },
    "language_info": {
      "name": "python"
    }
  },
  "cells": [
    {
      "cell_type": "code",
      "execution_count": 8,
      "metadata": {
        "colab": {
          "base_uri": "https://localhost:8080/"
        },
        "id": "ecV5mjrl198G",
        "outputId": "09807a7f-2e79-4ab3-c28a-ea841c72a973"
      },
      "outputs": [
        {
          "name": "stdout",
          "output_type": "stream",
          "text": [
            "Digite seu salário: 6000\n"
          ]
        }
      ],
      "source": [
        "salario = int(input('Digite seu salário: '))\n",
        "\n",
        "if salario < 5000:\n",
        "    if salario < 2500:\n",
        "        desconto = salario * 0.08\n",
        "    else:\n",
        "        desconto = salario * 0.18\n",
        "\n",
        "    salario_final = salario - desconto\n",
        "    print(\"Salário bruto:\", salario)\n",
        "    print(\"Desconto:\", desconto)\n",
        "    print(\"Salário final:\", salario_final)"
      ]
    }
  ]
}